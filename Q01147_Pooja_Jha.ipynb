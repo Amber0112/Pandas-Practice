{
 "cells": [
  {
   "cell_type": "markdown",
   "metadata": {
    "deletable": false,
    "editable": false
   },
   "source": [
    "## Assignment for Practice\n",
    "\n",
    ">`The dataset to be used for this assignment is tabular and all about football players. All the data required is in the parent directory named 'football', which is in same directory as this notebook.`\n",
    "\n",
    ">><font size=4, color=red>Instructions:</font>\n",
    ">> - <font size=3>Rename this Notebook in the format <br> *employee-id+'__'+name*</font>\n",
    ">> - <font size=3>You have to start with reading the file 'football.csv' and answer the following problems based on that file only, unless stated otherwise.</font>\n",
    ">> - <font size=3>If needed, a separate markdown cell is created. Please mention your responses in those cells accordingly.</font>\n",
    ">> - <font size=3>You are allowed to create as many cells as you need, without disturbing the Problem Cells and Format of Response Cells.</font>\n",
    ">> - <font size=3>Feel free to refer to the resources availabe online (Google/Bing whatever).</font>"
   ]
  },
  {
   "cell_type": "markdown",
   "metadata": {
    "deletable": false,
    "editable": false
   },
   "source": [
    "## Import the necessary libraries:"
   ]
  },
  {
   "cell_type": "code",
   "execution_count": 2,
   "metadata": {},
   "outputs": [],
   "source": [
    "import pandas as pd\n",
    "import datetime"
   ]
  },
  {
   "cell_type": "markdown",
   "metadata": {
    "deletable": false,
    "editable": false
   },
   "source": [
    "### 1. Find number of columns and rows."
   ]
  },
  {
   "cell_type": "code",
   "execution_count": 4,
   "metadata": {},
   "outputs": [
    {
     "data": {
      "text/plain": [
       "(2959, 17)"
      ]
     },
     "execution_count": 4,
     "metadata": {},
     "output_type": "execute_result"
    }
   ],
   "source": [
    "df = pd.read_csv(r'C:\\Users\\Pooja Jha\\Documents\\Training\\Assignment - Set 1\\football\\football.csv')\n",
    "df.shape"
   ]
  },
  {
   "cell_type": "markdown",
   "metadata": {},
   "source": [
    "Rows: 2959\n",
    "\n",
    "Columns: 17"
   ]
  },
  {
   "cell_type": "markdown",
   "metadata": {
    "deletable": false,
    "editable": false
   },
   "source": [
    "### 2. What is the maximum weight of a player ?"
   ]
  },
  {
   "cell_type": "code",
   "execution_count": 10,
   "metadata": {},
   "outputs": [
    {
     "data": {
      "text/plain": [
       "'227lbs'"
      ]
     },
     "execution_count": 10,
     "metadata": {},
     "output_type": "execute_result"
    }
   ],
   "source": [
    "df['Weight'].max()"
   ]
  },
  {
   "cell_type": "markdown",
   "metadata": {},
   "source": [
    "Maximum Weight = 227lbs"
   ]
  },
  {
   "cell_type": "markdown",
   "metadata": {
    "deletable": false,
    "editable": false
   },
   "source": [
    "### 3. Which columns have missing values and how many values are missing?"
   ]
  },
  {
   "cell_type": "code",
   "execution_count": 14,
   "metadata": {},
   "outputs": [
    {
     "data": {
      "text/plain": [
       "Name                 0\n",
       "Age                  0\n",
       "Nationality          0\n",
       "Overall              0\n",
       "Club                 0\n",
       "Value                0\n",
       "Preferred Foot       0\n",
       "Jersey Number        0\n",
       "Joined             210\n",
       "Height               0\n",
       "Weight               0\n",
       "HeadingAccuracy      0\n",
       "FKAccuracy           0\n",
       "Stamina              0\n",
       "Strength             0\n",
       "Penalties            0\n",
       "Release Clause     210\n",
       "dtype: int64"
      ]
     },
     "execution_count": 14,
     "metadata": {},
     "output_type": "execute_result"
    }
   ],
   "source": [
    "df.isnull().sum()"
   ]
  },
  {
   "cell_type": "markdown",
   "metadata": {},
   "source": [
    "`Replace values of cols and vals with your values. Increase/Decrease the table if needed.`\n",
    "\n",
    "| COLUMN           | VALUE |\n",
    "|------------------|-------|\n",
    "|Joined            | 210   |\n",
    "|Release Clause    | 210   |\n",
    "| ....             | ....  |"
   ]
  },
  {
   "cell_type": "markdown",
   "metadata": {
    "deletable": false,
    "editable": false
   },
   "source": [
    "### 4. How many different Clubs are there ?"
   ]
  },
  {
   "cell_type": "code",
   "execution_count": 16,
   "metadata": {},
   "outputs": [
    {
     "data": {
      "text/plain": [
       "381"
      ]
     },
     "execution_count": 16,
     "metadata": {},
     "output_type": "execute_result"
    }
   ],
   "source": [
    "df['Club'].nunique()"
   ]
  },
  {
   "cell_type": "markdown",
   "metadata": {},
   "source": [
    "Clubs = 381"
   ]
  },
  {
   "cell_type": "markdown",
   "metadata": {
    "deletable": false,
    "editable": false
   },
   "source": [
    "### 5. Create a list 'good_players', of players having both HeadingAccuracy and FKAccuracy above or equal to 80.0."
   ]
  },
  {
   "cell_type": "code",
   "execution_count": 34,
   "metadata": {},
   "outputs": [
    {
     "name": "stdout",
     "output_type": "stream",
     "text": [
      "['R. Lewandowski', 'G. Bale', 'Z. Ibrahimović', 'Marcos Alonso', 'A. Kolarov']\n"
     ]
    }
   ],
   "source": [
    "gp=df[(df['HeadingAccuracy'] >= 80.0) & (df['FKAccuracy'] >= 80.0)]\n",
    "good_players=[]\n",
    "good_players=list(gp['Name'])\n",
    "print(good_players)"
   ]
  },
  {
   "cell_type": "markdown",
   "metadata": {},
   "source": [
    "good_players = ('R. Lewandowski', 'G. Bale', 'Z. Ibrahimović', 'Marcos Alonso', 'A. Kolarov')"
   ]
  },
  {
   "cell_type": "markdown",
   "metadata": {
    "deletable": false,
    "editable": false
   },
   "source": [
    "### 6. Create a dictionary 'country_repr', using Nationality as key and number of players of that Nationality as value. "
   ]
  },
  {
   "cell_type": "code",
   "execution_count": 49,
   "metadata": {},
   "outputs": [
    {
     "name": "stdout",
     "output_type": "stream",
     "text": [
      "{'Albania': 3, 'Algeria': 17, 'Angola': 1, 'Argentina': 210, 'Armenia': 1, 'Australia': 7, 'Austria': 34, 'Belarus': 1, 'Belgium': 61, 'Benin': 2, 'Bolivia': 1, 'Bosnia Herzegovina': 15, 'Brazil': 283, 'Bulgaria': 2, 'Burkina Faso': 4, 'Cameroon': 22, 'Canada': 4, 'Cape Verde': 8, 'Central African Rep.': 1, 'Chad': 1, 'Chile': 35, 'China PR': 2, 'Colombia': 69, 'Congo': 1, 'Costa Rica': 6, 'Croatia': 36, 'Cuba': 1, 'Curacao': 2, 'Cyprus': 1, 'Czech Republic': 26, 'DR Congo': 14, 'Denmark': 34, 'Dominican Republic': 1, 'Ecuador': 7, 'Egypt': 6, 'England': 151, 'Equatorial Guinea': 1, 'Estonia': 1, 'FYR Macedonia': 6, 'Finland': 5, 'France': 218, 'Gabon': 4, 'Gambia': 2, 'Georgia': 5, 'Germany': 171, 'Ghana': 24, 'Greece': 25, 'Guinea': 5, 'Guinea Bissau': 3, 'Honduras': 3, 'Hungary': 6, 'Iceland': 3, 'Iran': 3, 'Israel': 4, 'Italy': 150, 'Ivory Coast': 29, 'Jamaica': 5, 'Japan': 22, 'Kenya': 1, 'Korea Republic': 7, 'Kosovo': 2, 'Madagascar': 1, 'Mali': 7, 'Mexico': 40, 'Moldova': 2, 'Montenegro': 5, 'Morocco': 26, 'Mozambique': 2, 'Netherlands': 94, 'New Zealand': 3, 'Nigeria': 19, 'Northern Ireland': 4, 'Norway': 19, 'Paraguay': 22, 'Peru': 9, 'Poland': 20, 'Portugal': 115, 'Republic of Ireland': 16, 'Romania': 11, 'Russia': 23, 'Saudi Arabia': 3, 'Scotland': 21, 'Senegal': 36, 'Serbia': 39, 'Sierra Leone': 1, 'Slovakia': 12, 'Slovenia': 12, 'South Africa': 4, 'Spain': 325, 'Sweden': 26, 'Switzerland': 40, 'Syria': 3, 'Tanzania': 1, 'Togo': 5, 'Trinidad & Tobago': 1, 'Tunisia': 4, 'Turkey': 45, 'Ukraine': 29, 'United Arab Emirates': 1, 'United States': 27, 'Uruguay': 50, 'Uzbekistan': 1, 'Venezuela': 12, 'Wales': 11, 'Zambia': 1, 'Zimbabwe': 3}\n"
     ]
    }
   ],
   "source": [
    "country_repr=df.groupby('Nationality')['Name'].nunique().to_dict()\n",
    "print(country_repr)"
   ]
  },
  {
   "cell_type": "markdown",
   "metadata": {},
   "source": [
    "country_repr = {'Albania': 3, 'Algeria': 17, 'Angola': 1, 'Argentina': 210, 'Armenia': 1, 'Australia': 7, 'Austria': 34, 'Belarus': 1, 'Belgium': 61, 'Benin': 2, 'Bolivia': 1, 'Bosnia Herzegovina': 15, 'Brazil': 283, 'Bulgaria': 2, 'Burkina Faso': 4, 'Cameroon': 22, 'Canada': 4, 'Cape Verde': 8, 'Central African Rep.': 1, 'Chad': 1, 'Chile': 35, 'China PR': 2, 'Colombia': 69, 'Congo': 1, 'Costa Rica': 6, 'Croatia': 36, 'Cuba': 1, 'Curacao': 2, 'Cyprus': 1, 'Czech Republic': 26, 'DR Congo': 14, 'Denmark': 34, 'Dominican Republic': 1, 'Ecuador': 7, 'Egypt': 6, 'England': 151, 'Equatorial Guinea': 1, 'Estonia': 1, 'FYR Macedonia': 6, 'Finland': 5, 'France': 218, 'Gabon': 4, 'Gambia': 2, 'Georgia': 5, 'Germany': 171, 'Ghana': 24, 'Greece': 25, 'Guinea': 5, 'Guinea Bissau': 3, 'Honduras': 3, 'Hungary': 6, 'Iceland': 3, 'Iran': 3, 'Israel': 4, 'Italy': 150, 'Ivory Coast': 29, 'Jamaica': 5, 'Japan': 22, 'Kenya': 1, 'Korea Republic': 7, 'Kosovo': 2, 'Madagascar': 1, 'Mali': 7, 'Mexico': 40, 'Moldova': 2, 'Montenegro': 5, 'Morocco': 26, 'Mozambique': 2, 'Netherlands': 94, 'New Zealand': 3, 'Nigeria': 19, 'Northern Ireland': 4, 'Norway': 19, 'Paraguay': 22, 'Peru': 9, 'Poland': 20, 'Portugal': 115, 'Republic of Ireland': 16, 'Romania': 11, 'Russia': 23, 'Saudi Arabia': 3, 'Scotland': 21, 'Senegal': 36, 'Serbia': 39, 'Sierra Leone': 1, 'Slovakia': 12, 'Slovenia': 12, 'South Africa': 4, 'Spain': 325, 'Sweden': 26, 'Switzerland': 40, 'Syria': 3, 'Tanzania': 1, 'Togo': 5, 'Trinidad & Tobago': 1, 'Tunisia': 4, 'Turkey': 45, 'Ukraine': 29, 'United Arab Emirates': 1, 'United States': 27, 'Uruguay': 50, 'Uzbekistan': 1, 'Venezuela': 12, 'Wales': 11, 'Zambia': 1, 'Zimbabwe': 3}"
   ]
  },
  {
   "cell_type": "markdown",
   "metadata": {
    "deletable": false,
    "editable": false
   },
   "source": [
    "### 7. Create an ordered list 'top_twenty', of top 20 Clubs with highest gross value of it's players."
   ]
  },
  {
   "cell_type": "code",
   "execution_count": 201,
   "metadata": {},
   "outputs": [],
   "source": [
    "df['Value'] = df['Value'].str.replace('€', '')"
   ]
  },
  {
   "cell_type": "code",
   "execution_count": 206,
   "metadata": {},
   "outputs": [],
   "source": [
    "df['Value'] = df['Value'].str.replace('M', '000000')\n",
    "df['Value'] = df['Value'].str.replace('.', '')\n",
    "df['Value'] = df['Value'].str.replace('K', '000')"
   ]
  },
  {
   "cell_type": "markdown",
   "metadata": {},
   "source": [
    "top_twenty = "
   ]
  },
  {
   "cell_type": "code",
   "execution_count": 210,
   "metadata": {},
   "outputs": [],
   "source": [
    "df['Value']=df['Value'].astype('float')"
   ]
  },
  {
   "cell_type": "code",
   "execution_count": 219,
   "metadata": {},
   "outputs": [
    {
     "data": {
      "text/html": [
       "<div>\n",
       "<style scoped>\n",
       "    .dataframe tbody tr th:only-of-type {\n",
       "        vertical-align: middle;\n",
       "    }\n",
       "\n",
       "    .dataframe tbody tr th {\n",
       "        vertical-align: top;\n",
       "    }\n",
       "\n",
       "    .dataframe thead th {\n",
       "        text-align: right;\n",
       "    }\n",
       "</style>\n",
       "<table border=\"1\" class=\"dataframe\">\n",
       "  <thead>\n",
       "    <tr style=\"text-align: right;\">\n",
       "      <th></th>\n",
       "      <th>Age</th>\n",
       "      <th>Overall</th>\n",
       "      <th>Value</th>\n",
       "      <th>Jersey Number</th>\n",
       "      <th>HeadingAccuracy</th>\n",
       "      <th>FKAccuracy</th>\n",
       "      <th>Stamina</th>\n",
       "      <th>Strength</th>\n",
       "      <th>Penalties</th>\n",
       "    </tr>\n",
       "    <tr>\n",
       "      <th>Club</th>\n",
       "      <th></th>\n",
       "      <th></th>\n",
       "      <th></th>\n",
       "      <th></th>\n",
       "      <th></th>\n",
       "      <th></th>\n",
       "      <th></th>\n",
       "      <th></th>\n",
       "      <th></th>\n",
       "    </tr>\n",
       "  </thead>\n",
       "  <tbody>\n",
       "    <tr>\n",
       "      <th>FC Barcelona</th>\n",
       "      <td>556</td>\n",
       "      <td>1774</td>\n",
       "      <td>4.682000e+09</td>\n",
       "      <td>220</td>\n",
       "      <td>1279</td>\n",
       "      <td>1258</td>\n",
       "      <td>1537</td>\n",
       "      <td>1447</td>\n",
       "      <td>1296</td>\n",
       "    </tr>\n",
       "    <tr>\n",
       "      <th>Real Madrid</th>\n",
       "      <td>595</td>\n",
       "      <td>1934</td>\n",
       "      <td>4.600000e+09</td>\n",
       "      <td>262</td>\n",
       "      <td>1373</td>\n",
       "      <td>1321</td>\n",
       "      <td>1691</td>\n",
       "      <td>1639</td>\n",
       "      <td>1312</td>\n",
       "    </tr>\n",
       "    <tr>\n",
       "      <th>Manchester City</th>\n",
       "      <td>584</td>\n",
       "      <td>1840</td>\n",
       "      <td>4.064000e+09</td>\n",
       "      <td>375</td>\n",
       "      <td>1343</td>\n",
       "      <td>1291</td>\n",
       "      <td>1621</td>\n",
       "      <td>1532</td>\n",
       "      <td>1306</td>\n",
       "    </tr>\n",
       "    <tr>\n",
       "      <th>Inter</th>\n",
       "      <td>600</td>\n",
       "      <td>1783</td>\n",
       "      <td>3.730000e+09</td>\n",
       "      <td>523</td>\n",
       "      <td>1394</td>\n",
       "      <td>1109</td>\n",
       "      <td>1627</td>\n",
       "      <td>1574</td>\n",
       "      <td>1239</td>\n",
       "    </tr>\n",
       "    <tr>\n",
       "      <th>Tottenham Hotspur</th>\n",
       "      <td>636</td>\n",
       "      <td>1952</td>\n",
       "      <td>3.436000e+09</td>\n",
       "      <td>307</td>\n",
       "      <td>1516</td>\n",
       "      <td>1336</td>\n",
       "      <td>1740</td>\n",
       "      <td>1743</td>\n",
       "      <td>1503</td>\n",
       "    </tr>\n",
       "    <tr>\n",
       "      <th>Paris Saint-Germain</th>\n",
       "      <td>561</td>\n",
       "      <td>1734</td>\n",
       "      <td>3.280000e+09</td>\n",
       "      <td>266</td>\n",
       "      <td>1328</td>\n",
       "      <td>1156</td>\n",
       "      <td>1542</td>\n",
       "      <td>1449</td>\n",
       "      <td>1221</td>\n",
       "    </tr>\n",
       "    <tr>\n",
       "      <th>Atlético Madrid</th>\n",
       "      <td>529</td>\n",
       "      <td>1669</td>\n",
       "      <td>3.179000e+09</td>\n",
       "      <td>229</td>\n",
       "      <td>1345</td>\n",
       "      <td>1072</td>\n",
       "      <td>1504</td>\n",
       "      <td>1496</td>\n",
       "      <td>1075</td>\n",
       "    </tr>\n",
       "    <tr>\n",
       "      <th>Juventus</th>\n",
       "      <td>614</td>\n",
       "      <td>1851</td>\n",
       "      <td>3.136000e+09</td>\n",
       "      <td>273</td>\n",
       "      <td>1445</td>\n",
       "      <td>1176</td>\n",
       "      <td>1662</td>\n",
       "      <td>1622</td>\n",
       "      <td>1285</td>\n",
       "    </tr>\n",
       "    <tr>\n",
       "      <th>Manchester United</th>\n",
       "      <td>646</td>\n",
       "      <td>1953</td>\n",
       "      <td>3.105000e+09</td>\n",
       "      <td>296</td>\n",
       "      <td>1526</td>\n",
       "      <td>1345</td>\n",
       "      <td>1748</td>\n",
       "      <td>1763</td>\n",
       "      <td>1440</td>\n",
       "    </tr>\n",
       "    <tr>\n",
       "      <th>FC Bayern München</th>\n",
       "      <td>540</td>\n",
       "      <td>1679</td>\n",
       "      <td>2.994000e+09</td>\n",
       "      <td>260</td>\n",
       "      <td>1264</td>\n",
       "      <td>1206</td>\n",
       "      <td>1424</td>\n",
       "      <td>1421</td>\n",
       "      <td>1250</td>\n",
       "    </tr>\n",
       "    <tr>\n",
       "      <th>Liverpool</th>\n",
       "      <td>618</td>\n",
       "      <td>1949</td>\n",
       "      <td>2.944000e+09</td>\n",
       "      <td>339</td>\n",
       "      <td>1468</td>\n",
       "      <td>1263</td>\n",
       "      <td>1776</td>\n",
       "      <td>1700</td>\n",
       "      <td>1444</td>\n",
       "    </tr>\n",
       "    <tr>\n",
       "      <th>Napoli</th>\n",
       "      <td>627</td>\n",
       "      <td>1930</td>\n",
       "      <td>2.514000e+09</td>\n",
       "      <td>417</td>\n",
       "      <td>1356</td>\n",
       "      <td>1216</td>\n",
       "      <td>1701</td>\n",
       "      <td>1540</td>\n",
       "      <td>1266</td>\n",
       "    </tr>\n",
       "    <tr>\n",
       "      <th>Chelsea</th>\n",
       "      <td>649</td>\n",
       "      <td>1960</td>\n",
       "      <td>2.369000e+09</td>\n",
       "      <td>348</td>\n",
       "      <td>1530</td>\n",
       "      <td>1413</td>\n",
       "      <td>1731</td>\n",
       "      <td>1673</td>\n",
       "      <td>1460</td>\n",
       "    </tr>\n",
       "    <tr>\n",
       "      <th>Borussia Dortmund</th>\n",
       "      <td>614</td>\n",
       "      <td>1985</td>\n",
       "      <td>2.119000e+09</td>\n",
       "      <td>426</td>\n",
       "      <td>1475</td>\n",
       "      <td>1281</td>\n",
       "      <td>1819</td>\n",
       "      <td>1727</td>\n",
       "      <td>1339</td>\n",
       "    </tr>\n",
       "    <tr>\n",
       "      <th>SL Benfica</th>\n",
       "      <td>628</td>\n",
       "      <td>1950</td>\n",
       "      <td>2.026000e+09</td>\n",
       "      <td>557</td>\n",
       "      <td>1623</td>\n",
       "      <td>1395</td>\n",
       "      <td>1827</td>\n",
       "      <td>1755</td>\n",
       "      <td>1452</td>\n",
       "    </tr>\n",
       "    <tr>\n",
       "      <th>Roma</th>\n",
       "      <td>592</td>\n",
       "      <td>1752</td>\n",
       "      <td>1.965000e+09</td>\n",
       "      <td>433</td>\n",
       "      <td>1413</td>\n",
       "      <td>1137</td>\n",
       "      <td>1542</td>\n",
       "      <td>1551</td>\n",
       "      <td>1224</td>\n",
       "    </tr>\n",
       "    <tr>\n",
       "      <th>Lazio</th>\n",
       "      <td>619</td>\n",
       "      <td>1816</td>\n",
       "      <td>1.964000e+09</td>\n",
       "      <td>445</td>\n",
       "      <td>1441</td>\n",
       "      <td>1206</td>\n",
       "      <td>1602</td>\n",
       "      <td>1673</td>\n",
       "      <td>1241</td>\n",
       "    </tr>\n",
       "    <tr>\n",
       "      <th>Milan</th>\n",
       "      <td>585</td>\n",
       "      <td>1831</td>\n",
       "      <td>1.874000e+09</td>\n",
       "      <td>460</td>\n",
       "      <td>1349</td>\n",
       "      <td>1233</td>\n",
       "      <td>1675</td>\n",
       "      <td>1566</td>\n",
       "      <td>1322</td>\n",
       "    </tr>\n",
       "    <tr>\n",
       "      <th>Sporting CP</th>\n",
       "      <td>700</td>\n",
       "      <td>2014</td>\n",
       "      <td>1.725000e+09</td>\n",
       "      <td>615</td>\n",
       "      <td>1581</td>\n",
       "      <td>1361</td>\n",
       "      <td>1877</td>\n",
       "      <td>1869</td>\n",
       "      <td>1515</td>\n",
       "    </tr>\n",
       "    <tr>\n",
       "      <th>Arsenal</th>\n",
       "      <td>548</td>\n",
       "      <td>1627</td>\n",
       "      <td>1.704000e+09</td>\n",
       "      <td>256</td>\n",
       "      <td>1240</td>\n",
       "      <td>1044</td>\n",
       "      <td>1456</td>\n",
       "      <td>1418</td>\n",
       "      <td>1120</td>\n",
       "    </tr>\n",
       "  </tbody>\n",
       "</table>\n",
       "</div>"
      ],
      "text/plain": [
       "                     Age  Overall         Value  Jersey Number  \\\n",
       "Club                                                             \n",
       "FC Barcelona         556     1774  4.682000e+09            220   \n",
       "Real Madrid          595     1934  4.600000e+09            262   \n",
       "Manchester City      584     1840  4.064000e+09            375   \n",
       "Inter                600     1783  3.730000e+09            523   \n",
       "Tottenham Hotspur    636     1952  3.436000e+09            307   \n",
       "Paris Saint-Germain  561     1734  3.280000e+09            266   \n",
       "Atlético Madrid      529     1669  3.179000e+09            229   \n",
       "Juventus             614     1851  3.136000e+09            273   \n",
       "Manchester United    646     1953  3.105000e+09            296   \n",
       "FC Bayern München    540     1679  2.994000e+09            260   \n",
       "Liverpool            618     1949  2.944000e+09            339   \n",
       "Napoli               627     1930  2.514000e+09            417   \n",
       "Chelsea              649     1960  2.369000e+09            348   \n",
       "Borussia Dortmund    614     1985  2.119000e+09            426   \n",
       "SL Benfica           628     1950  2.026000e+09            557   \n",
       "Roma                 592     1752  1.965000e+09            433   \n",
       "Lazio                619     1816  1.964000e+09            445   \n",
       "Milan                585     1831  1.874000e+09            460   \n",
       "Sporting CP          700     2014  1.725000e+09            615   \n",
       "Arsenal              548     1627  1.704000e+09            256   \n",
       "\n",
       "                     HeadingAccuracy  FKAccuracy  Stamina  Strength  Penalties  \n",
       "Club                                                                            \n",
       "FC Barcelona                    1279        1258     1537      1447       1296  \n",
       "Real Madrid                     1373        1321     1691      1639       1312  \n",
       "Manchester City                 1343        1291     1621      1532       1306  \n",
       "Inter                           1394        1109     1627      1574       1239  \n",
       "Tottenham Hotspur               1516        1336     1740      1743       1503  \n",
       "Paris Saint-Germain             1328        1156     1542      1449       1221  \n",
       "Atlético Madrid                 1345        1072     1504      1496       1075  \n",
       "Juventus                        1445        1176     1662      1622       1285  \n",
       "Manchester United               1526        1345     1748      1763       1440  \n",
       "FC Bayern München               1264        1206     1424      1421       1250  \n",
       "Liverpool                       1468        1263     1776      1700       1444  \n",
       "Napoli                          1356        1216     1701      1540       1266  \n",
       "Chelsea                         1530        1413     1731      1673       1460  \n",
       "Borussia Dortmund               1475        1281     1819      1727       1339  \n",
       "SL Benfica                      1623        1395     1827      1755       1452  \n",
       "Roma                            1413        1137     1542      1551       1224  \n",
       "Lazio                           1441        1206     1602      1673       1241  \n",
       "Milan                           1349        1233     1675      1566       1322  \n",
       "Sporting CP                     1581        1361     1877      1869       1515  \n",
       "Arsenal                         1240        1044     1456      1418       1120  "
      ]
     },
     "execution_count": 219,
     "metadata": {},
     "output_type": "execute_result"
    }
   ],
   "source": [
    "df.dtypes\n",
    "t=df.groupby(['Club']).sum().sort_values(by= 'Value', ascending= False).head(20)\n",
    "t"
   ]
  },
  {
   "cell_type": "markdown",
   "metadata": {
    "deletable": false,
    "editable": false
   },
   "source": [
    "### 8. How many players having age 30 or above have overall score above 90.0."
   ]
  },
  {
   "cell_type": "code",
   "execution_count": 63,
   "metadata": {},
   "outputs": [
    {
     "name": "stdout",
     "output_type": "stream",
     "text": [
      "5\n"
     ]
    }
   ],
   "source": [
    "players=(df['Age'] >= 30) & (df['Overall'] > 90.0)\n",
    "print(players.sum())"
   ]
  },
  {
   "cell_type": "markdown",
   "metadata": {},
   "source": [
    "Number = 5"
   ]
  },
  {
   "cell_type": "markdown",
   "metadata": {
    "deletable": false,
    "editable": false
   },
   "source": [
    "### 9. List out other players having same Club and Nationality as Neymar Jr."
   ]
  },
  {
   "cell_type": "code",
   "execution_count": 104,
   "metadata": {},
   "outputs": [
    {
     "data": {
      "text/plain": [
       "['Thiago Silva', 'Marquinhos', 'Dani Alves']"
      ]
     },
     "execution_count": 104,
     "metadata": {},
     "output_type": "execute_result"
    }
   ],
   "source": [
    "df[df['Name'] == 'Neymar Jr']\n",
    "df[(df['Club'] == 'Paris Saint-Germain') & (df['Nationality'] == 'Brazil')].loc[3:, 'Name'].tolist()"
   ]
  },
  {
   "cell_type": "markdown",
   "metadata": {},
   "source": [
    "List = ['Thiago Silva', 'Marquinhos', 'Dani Alves']"
   ]
  },
  {
   "cell_type": "markdown",
   "metadata": {
    "deletable": false,
    "editable": false
   },
   "source": [
    "### 10. Jersey Number of Players appear to be a Floating Point number. Convert them to proper Integers as shown below:\n",
    ">10.0 becomes 10"
   ]
  },
  {
   "cell_type": "code",
   "execution_count": 75,
   "metadata": {},
   "outputs": [],
   "source": [
    "df['Jersey Number']=df['Jersey Number'].astype(int)"
   ]
  },
  {
   "cell_type": "markdown",
   "metadata": {
    "deletable": false,
    "editable": false
   },
   "source": [
    "### 11. Find the mode value of columns having null values and Impute the null values using highest mode value of their respective columns."
   ]
  },
  {
   "cell_type": "code",
   "execution_count": 112,
   "metadata": {},
   "outputs": [
    {
     "data": {
      "text/plain": [
       "Name               0\n",
       "Age                0\n",
       "Nationality        0\n",
       "Overall            0\n",
       "Club               0\n",
       "Value              0\n",
       "Preferred Foot     0\n",
       "Jersey Number      0\n",
       "Joined             0\n",
       "Height             0\n",
       "Weight             0\n",
       "HeadingAccuracy    0\n",
       "FKAccuracy         0\n",
       "Stamina            0\n",
       "Strength           0\n",
       "Penalties          0\n",
       "Release Clause     0\n",
       "Jersey Numaber     0\n",
       "dtype: int64"
      ]
     },
     "execution_count": 112,
     "metadata": {},
     "output_type": "execute_result"
    }
   ],
   "source": [
    "df['Release Clause'].mode()\n",
    "df['Joined'].mode()\n",
    "df[\"Release Clause\"].fillna(\"€10.5M\", inplace = True)\n",
    "df[\"Joined\"].fillna(\"Jul 1, 2018\", inplace = True)\n",
    "df.isnull().sum()"
   ]
  },
  {
   "cell_type": "markdown",
   "metadata": {
    "deletable": false,
    "editable": false
   },
   "source": [
    "### 12. Create a new column named 'Height (Inches)' which has value of height in inches."
   ]
  },
  {
   "cell_type": "code",
   "execution_count": 128,
   "metadata": {},
   "outputs": [
    {
     "data": {
      "text/plain": [
       "(2959, 18)"
      ]
     },
     "execution_count": 128,
     "metadata": {},
     "output_type": "execute_result"
    }
   ],
   "source": [
    "df.shape"
   ]
  },
  {
   "cell_type": "markdown",
   "metadata": {
    "deletable": false,
    "editable": false
   },
   "source": [
    "### 13. List out Top 10 players of Belgium based on Overall score."
   ]
  },
  {
   "cell_type": "code",
   "execution_count": 127,
   "metadata": {},
   "outputs": [
    {
     "data": {
      "text/plain": [
       "['K. De Bruyne',\n",
       " 'E. Hazard',\n",
       " 'T. Courtois',\n",
       " 'R. Lukaku',\n",
       " 'D. Mertens',\n",
       " 'J. Vertonghen',\n",
       " 'T. Alderweireld',\n",
       " 'R. Nainggolan',\n",
       " 'V. Kompany',\n",
       " 'A. Witsel']"
      ]
     },
     "execution_count": 127,
     "metadata": {},
     "output_type": "execute_result"
    }
   ],
   "source": [
    "players=df[df['Nationality'] == 'Belgium'].sort_values('Overall',ascending=False).head(10)\n",
    "players['Name'].tolist()"
   ]
  },
  {
   "cell_type": "markdown",
   "metadata": {},
   "source": [
    "Top 10 Belgians: ['K. De Bruyne',\n",
    " 'E. Hazard',\n",
    " 'T. Courtois',\n",
    " 'R. Lukaku',\n",
    " 'D. Mertens',\n",
    " 'J. Vertonghen',\n",
    " 'T. Alderweireld',\n",
    " 'R. Nainggolan',\n",
    " 'V. Kompany',\n",
    " 'A. Witsel']"
   ]
  },
  {
   "cell_type": "markdown",
   "metadata": {
    "deletable": false,
    "editable": false
   },
   "source": [
    "### 14. The Joined column tells us the date when a player joined his mentioned club. Change the format of date to 'mmddyyyy'. In case date is missing, replace it with any suitable value.\n",
    ">Example: `'Jul 9, 2018'` becomes `'07092018'`"
   ]
  },
  {
   "cell_type": "code",
   "execution_count": 223,
   "metadata": {},
   "outputs": [
    {
     "data": {
      "text/html": [
       "<div>\n",
       "<style scoped>\n",
       "    .dataframe tbody tr th:only-of-type {\n",
       "        vertical-align: middle;\n",
       "    }\n",
       "\n",
       "    .dataframe tbody tr th {\n",
       "        vertical-align: top;\n",
       "    }\n",
       "\n",
       "    .dataframe thead th {\n",
       "        text-align: right;\n",
       "    }\n",
       "</style>\n",
       "<table border=\"1\" class=\"dataframe\">\n",
       "  <thead>\n",
       "    <tr style=\"text-align: right;\">\n",
       "      <th></th>\n",
       "      <th>Name</th>\n",
       "      <th>Age</th>\n",
       "      <th>Nationality</th>\n",
       "      <th>Overall</th>\n",
       "      <th>Club</th>\n",
       "      <th>Value</th>\n",
       "      <th>Preferred Foot</th>\n",
       "      <th>Jersey Number</th>\n",
       "      <th>Joined</th>\n",
       "      <th>Height</th>\n",
       "      <th>Weight</th>\n",
       "      <th>HeadingAccuracy</th>\n",
       "      <th>FKAccuracy</th>\n",
       "      <th>Stamina</th>\n",
       "      <th>Strength</th>\n",
       "      <th>Penalties</th>\n",
       "      <th>Release Clause</th>\n",
       "      <th>newdatetime</th>\n",
       "    </tr>\n",
       "  </thead>\n",
       "  <tbody>\n",
       "    <tr>\n",
       "      <th>0</th>\n",
       "      <td>L. Messi</td>\n",
       "      <td>31</td>\n",
       "      <td>Argentina</td>\n",
       "      <td>94</td>\n",
       "      <td>FC Barcelona</td>\n",
       "      <td>1.105000e+09</td>\n",
       "      <td>Left</td>\n",
       "      <td>10</td>\n",
       "      <td>01-Jul-04</td>\n",
       "      <td>5'7</td>\n",
       "      <td>159lbs</td>\n",
       "      <td>70</td>\n",
       "      <td>94</td>\n",
       "      <td>72</td>\n",
       "      <td>59</td>\n",
       "      <td>75</td>\n",
       "      <td>€226.5M</td>\n",
       "      <td>07012004</td>\n",
       "    </tr>\n",
       "    <tr>\n",
       "      <th>1</th>\n",
       "      <td>Cristiano Ronaldo</td>\n",
       "      <td>33</td>\n",
       "      <td>Portugal</td>\n",
       "      <td>94</td>\n",
       "      <td>Juventus</td>\n",
       "      <td>7.700000e+07</td>\n",
       "      <td>Right</td>\n",
       "      <td>7</td>\n",
       "      <td>10-Jul-18</td>\n",
       "      <td>6'2</td>\n",
       "      <td>183lbs</td>\n",
       "      <td>89</td>\n",
       "      <td>76</td>\n",
       "      <td>88</td>\n",
       "      <td>79</td>\n",
       "      <td>85</td>\n",
       "      <td>€127.1M</td>\n",
       "      <td>07102018</td>\n",
       "    </tr>\n",
       "    <tr>\n",
       "      <th>2</th>\n",
       "      <td>Neymar Jr</td>\n",
       "      <td>26</td>\n",
       "      <td>Brazil</td>\n",
       "      <td>92</td>\n",
       "      <td>Paris Saint-Germain</td>\n",
       "      <td>1.185000e+09</td>\n",
       "      <td>Right</td>\n",
       "      <td>10</td>\n",
       "      <td>03-Aug-17</td>\n",
       "      <td>5'9</td>\n",
       "      <td>150lbs</td>\n",
       "      <td>62</td>\n",
       "      <td>87</td>\n",
       "      <td>81</td>\n",
       "      <td>49</td>\n",
       "      <td>81</td>\n",
       "      <td>€228.1M</td>\n",
       "      <td>08032017</td>\n",
       "    </tr>\n",
       "    <tr>\n",
       "      <th>3</th>\n",
       "      <td>De Gea</td>\n",
       "      <td>27</td>\n",
       "      <td>Spain</td>\n",
       "      <td>91</td>\n",
       "      <td>Manchester United</td>\n",
       "      <td>7.200000e+07</td>\n",
       "      <td>Right</td>\n",
       "      <td>1</td>\n",
       "      <td>01-Jul-11</td>\n",
       "      <td>6'4</td>\n",
       "      <td>168lbs</td>\n",
       "      <td>21</td>\n",
       "      <td>19</td>\n",
       "      <td>43</td>\n",
       "      <td>64</td>\n",
       "      <td>40</td>\n",
       "      <td>€138.6M</td>\n",
       "      <td>07012011</td>\n",
       "    </tr>\n",
       "    <tr>\n",
       "      <th>4</th>\n",
       "      <td>K. De Bruyne</td>\n",
       "      <td>27</td>\n",
       "      <td>Belgium</td>\n",
       "      <td>91</td>\n",
       "      <td>Manchester City</td>\n",
       "      <td>1.020000e+08</td>\n",
       "      <td>Right</td>\n",
       "      <td>7</td>\n",
       "      <td>30-Aug-15</td>\n",
       "      <td>5'11</td>\n",
       "      <td>154lbs</td>\n",
       "      <td>55</td>\n",
       "      <td>83</td>\n",
       "      <td>90</td>\n",
       "      <td>75</td>\n",
       "      <td>79</td>\n",
       "      <td>€196.4M</td>\n",
       "      <td>08302015</td>\n",
       "    </tr>\n",
       "  </tbody>\n",
       "</table>\n",
       "</div>"
      ],
      "text/plain": [
       "                Name  Age Nationality  Overall                 Club  \\\n",
       "0           L. Messi   31   Argentina       94         FC Barcelona   \n",
       "1  Cristiano Ronaldo   33    Portugal       94             Juventus   \n",
       "2          Neymar Jr   26      Brazil       92  Paris Saint-Germain   \n",
       "3             De Gea   27       Spain       91    Manchester United   \n",
       "4       K. De Bruyne   27     Belgium       91      Manchester City   \n",
       "\n",
       "          Value Preferred Foot  Jersey Number     Joined Height  Weight  \\\n",
       "0  1.105000e+09           Left             10  01-Jul-04    5'7  159lbs   \n",
       "1  7.700000e+07          Right              7  10-Jul-18    6'2  183lbs   \n",
       "2  1.185000e+09          Right             10  03-Aug-17    5'9  150lbs   \n",
       "3  7.200000e+07          Right              1  01-Jul-11    6'4  168lbs   \n",
       "4  1.020000e+08          Right              7  30-Aug-15   5'11  154lbs   \n",
       "\n",
       "   HeadingAccuracy  FKAccuracy  Stamina  Strength  Penalties Release Clause  \\\n",
       "0               70          94       72        59         75        €226.5M   \n",
       "1               89          76       88        79         85        €127.1M   \n",
       "2               62          87       81        49         81        €228.1M   \n",
       "3               21          19       43        64         40        €138.6M   \n",
       "4               55          83       90        75         79        €196.4M   \n",
       "\n",
       "  newdatetime  \n",
       "0    07012004  \n",
       "1    07102018  \n",
       "2    08032017  \n",
       "3    07012011  \n",
       "4    08302015  "
      ]
     },
     "execution_count": 223,
     "metadata": {},
     "output_type": "execute_result"
    }
   ],
   "source": [
    "df['newdatetime'] = pd.to_datetime(df['Joined'],format = '%d-%b-%y').dt.strftime('%m%d%Y')\n",
    "df.head()"
   ]
  },
  {
   "cell_type": "code",
   "execution_count": 221,
   "metadata": {},
   "outputs": [
    {
     "data": {
      "text/plain": [
       "Name                object\n",
       "Age                  int64\n",
       "Nationality         object\n",
       "Overall              int64\n",
       "Club                object\n",
       "Value              float64\n",
       "Preferred Foot      object\n",
       "Jersey Number        int64\n",
       "Joined              object\n",
       "Height              object\n",
       "Weight              object\n",
       "HeadingAccuracy      int64\n",
       "FKAccuracy           int64\n",
       "Stamina              int64\n",
       "Strength             int64\n",
       "Penalties            int64\n",
       "Release Clause      object\n",
       "dtype: object"
      ]
     },
     "execution_count": 221,
     "metadata": {},
     "output_type": "execute_result"
    }
   ],
   "source": [
    "df.dtypes"
   ]
  },
  {
   "cell_type": "markdown",
   "metadata": {
    "deletable": false,
    "editable": false
   },
   "source": [
    "### 15. Draw a line plot showing - Grid, a Title and Legend, to compare below listed scores of T. Kroos and A. Griezmann.\n",
    ">`['Overall', 'HeadingAccuracy', 'FKAccuracy', 'Stamina', 'Strength']`"
   ]
  },
  {
   "cell_type": "code",
   "execution_count": 181,
   "metadata": {},
   "outputs": [],
   "source": [
    "df['Name']=df['Name'].astype(str)"
   ]
  },
  {
   "cell_type": "code",
   "execution_count": 182,
   "metadata": {},
   "outputs": [
    {
     "data": {
      "text/html": [
       "<div>\n",
       "<style scoped>\n",
       "    .dataframe tbody tr th:only-of-type {\n",
       "        vertical-align: middle;\n",
       "    }\n",
       "\n",
       "    .dataframe tbody tr th {\n",
       "        vertical-align: top;\n",
       "    }\n",
       "\n",
       "    .dataframe thead th {\n",
       "        text-align: right;\n",
       "    }\n",
       "</style>\n",
       "<table border=\"1\" class=\"dataframe\">\n",
       "  <thead>\n",
       "    <tr style=\"text-align: right;\">\n",
       "      <th></th>\n",
       "      <th>Name</th>\n",
       "      <th>Age</th>\n",
       "      <th>Nationality</th>\n",
       "      <th>Overall</th>\n",
       "      <th>Club</th>\n",
       "      <th>Value</th>\n",
       "      <th>Preferred Foot</th>\n",
       "      <th>Jersey Number</th>\n",
       "      <th>Joined</th>\n",
       "      <th>Height</th>\n",
       "      <th>Weight</th>\n",
       "      <th>HeadingAccuracy</th>\n",
       "      <th>FKAccuracy</th>\n",
       "      <th>Stamina</th>\n",
       "      <th>Strength</th>\n",
       "      <th>Penalties</th>\n",
       "      <th>Release Clause</th>\n",
       "    </tr>\n",
       "  </thead>\n",
       "  <tbody>\n",
       "    <tr>\n",
       "      <th>0</th>\n",
       "      <td>L. Messi</td>\n",
       "      <td>31</td>\n",
       "      <td>Argentina</td>\n",
       "      <td>94</td>\n",
       "      <td>FC Barcelona</td>\n",
       "      <td>€110.5M</td>\n",
       "      <td>Left</td>\n",
       "      <td>10</td>\n",
       "      <td>01-Jul-04</td>\n",
       "      <td>5'7</td>\n",
       "      <td>159lbs</td>\n",
       "      <td>70</td>\n",
       "      <td>94</td>\n",
       "      <td>72</td>\n",
       "      <td>59</td>\n",
       "      <td>75</td>\n",
       "      <td>€226.5M</td>\n",
       "    </tr>\n",
       "    <tr>\n",
       "      <th>1</th>\n",
       "      <td>Cristiano Ronaldo</td>\n",
       "      <td>33</td>\n",
       "      <td>Portugal</td>\n",
       "      <td>94</td>\n",
       "      <td>Juventus</td>\n",
       "      <td>€77M</td>\n",
       "      <td>Right</td>\n",
       "      <td>7</td>\n",
       "      <td>10-Jul-18</td>\n",
       "      <td>6'2</td>\n",
       "      <td>183lbs</td>\n",
       "      <td>89</td>\n",
       "      <td>76</td>\n",
       "      <td>88</td>\n",
       "      <td>79</td>\n",
       "      <td>85</td>\n",
       "      <td>€127.1M</td>\n",
       "    </tr>\n",
       "    <tr>\n",
       "      <th>2</th>\n",
       "      <td>Neymar Jr</td>\n",
       "      <td>26</td>\n",
       "      <td>Brazil</td>\n",
       "      <td>92</td>\n",
       "      <td>Paris Saint-Germain</td>\n",
       "      <td>€118.5M</td>\n",
       "      <td>Right</td>\n",
       "      <td>10</td>\n",
       "      <td>03-Aug-17</td>\n",
       "      <td>5'9</td>\n",
       "      <td>150lbs</td>\n",
       "      <td>62</td>\n",
       "      <td>87</td>\n",
       "      <td>81</td>\n",
       "      <td>49</td>\n",
       "      <td>81</td>\n",
       "      <td>€228.1M</td>\n",
       "    </tr>\n",
       "    <tr>\n",
       "      <th>3</th>\n",
       "      <td>De Gea</td>\n",
       "      <td>27</td>\n",
       "      <td>Spain</td>\n",
       "      <td>91</td>\n",
       "      <td>Manchester United</td>\n",
       "      <td>€72M</td>\n",
       "      <td>Right</td>\n",
       "      <td>1</td>\n",
       "      <td>01-Jul-11</td>\n",
       "      <td>6'4</td>\n",
       "      <td>168lbs</td>\n",
       "      <td>21</td>\n",
       "      <td>19</td>\n",
       "      <td>43</td>\n",
       "      <td>64</td>\n",
       "      <td>40</td>\n",
       "      <td>€138.6M</td>\n",
       "    </tr>\n",
       "    <tr>\n",
       "      <th>4</th>\n",
       "      <td>K. De Bruyne</td>\n",
       "      <td>27</td>\n",
       "      <td>Belgium</td>\n",
       "      <td>91</td>\n",
       "      <td>Manchester City</td>\n",
       "      <td>€102M</td>\n",
       "      <td>Right</td>\n",
       "      <td>7</td>\n",
       "      <td>30-Aug-15</td>\n",
       "      <td>5'11</td>\n",
       "      <td>154lbs</td>\n",
       "      <td>55</td>\n",
       "      <td>83</td>\n",
       "      <td>90</td>\n",
       "      <td>75</td>\n",
       "      <td>79</td>\n",
       "      <td>€196.4M</td>\n",
       "    </tr>\n",
       "  </tbody>\n",
       "</table>\n",
       "</div>"
      ],
      "text/plain": [
       "                Name  Age Nationality  Overall                 Club    Value  \\\n",
       "0           L. Messi   31   Argentina       94         FC Barcelona  €110.5M   \n",
       "1  Cristiano Ronaldo   33    Portugal       94             Juventus     €77M   \n",
       "2          Neymar Jr   26      Brazil       92  Paris Saint-Germain  €118.5M   \n",
       "3             De Gea   27       Spain       91    Manchester United     €72M   \n",
       "4       K. De Bruyne   27     Belgium       91      Manchester City    €102M   \n",
       "\n",
       "  Preferred Foot  Jersey Number     Joined Height  Weight  HeadingAccuracy  \\\n",
       "0           Left             10  01-Jul-04    5'7  159lbs               70   \n",
       "1          Right              7  10-Jul-18    6'2  183lbs               89   \n",
       "2          Right             10  03-Aug-17    5'9  150lbs               62   \n",
       "3          Right              1  01-Jul-11    6'4  168lbs               21   \n",
       "4          Right              7  30-Aug-15   5'11  154lbs               55   \n",
       "\n",
       "   FKAccuracy  Stamina  Strength  Penalties Release Clause  \n",
       "0          94       72        59         75        €226.5M  \n",
       "1          76       88        79         85        €127.1M  \n",
       "2          87       81        49         81        €228.1M  \n",
       "3          19       43        64         40        €138.6M  \n",
       "4          83       90        75         79        €196.4M  "
      ]
     },
     "execution_count": 182,
     "metadata": {},
     "output_type": "execute_result"
    }
   ],
   "source": [
    "df.head()"
   ]
  },
  {
   "cell_type": "code",
   "execution_count": 187,
   "metadata": {},
   "outputs": [
    {
     "data": {
      "text/html": [
       "<div>\n",
       "<style scoped>\n",
       "    .dataframe tbody tr th:only-of-type {\n",
       "        vertical-align: middle;\n",
       "    }\n",
       "\n",
       "    .dataframe tbody tr th {\n",
       "        vertical-align: top;\n",
       "    }\n",
       "\n",
       "    .dataframe thead th {\n",
       "        text-align: right;\n",
       "    }\n",
       "</style>\n",
       "<table border=\"1\" class=\"dataframe\">\n",
       "  <thead>\n",
       "    <tr style=\"text-align: right;\">\n",
       "      <th></th>\n",
       "      <th>Name</th>\n",
       "      <th>Age</th>\n",
       "      <th>Nationality</th>\n",
       "      <th>Overall</th>\n",
       "      <th>Club</th>\n",
       "      <th>Value</th>\n",
       "      <th>Preferred Foot</th>\n",
       "      <th>Jersey Number</th>\n",
       "      <th>Joined</th>\n",
       "      <th>Height</th>\n",
       "      <th>Weight</th>\n",
       "      <th>HeadingAccuracy</th>\n",
       "      <th>FKAccuracy</th>\n",
       "      <th>Stamina</th>\n",
       "      <th>Strength</th>\n",
       "      <th>Penalties</th>\n",
       "      <th>Release Clause</th>\n",
       "    </tr>\n",
       "  </thead>\n",
       "  <tbody>\n",
       "    <tr>\n",
       "      <th>11</th>\n",
       "      <td>T. Kroos</td>\n",
       "      <td>28</td>\n",
       "      <td>Germany</td>\n",
       "      <td>90</td>\n",
       "      <td>Real Madrid</td>\n",
       "      <td>€76.5M</td>\n",
       "      <td>Right</td>\n",
       "      <td>8</td>\n",
       "      <td>17-Jul-14</td>\n",
       "      <td>6'0</td>\n",
       "      <td>168lbs</td>\n",
       "      <td>54</td>\n",
       "      <td>84</td>\n",
       "      <td>75</td>\n",
       "      <td>73</td>\n",
       "      <td>73</td>\n",
       "      <td>€156.8M</td>\n",
       "    </tr>\n",
       "    <tr>\n",
       "      <th>17</th>\n",
       "      <td>A. Griezmann</td>\n",
       "      <td>27</td>\n",
       "      <td>France</td>\n",
       "      <td>89</td>\n",
       "      <td>Atlético Madrid</td>\n",
       "      <td>€78M</td>\n",
       "      <td>Left</td>\n",
       "      <td>7</td>\n",
       "      <td>28-Jul-14</td>\n",
       "      <td>5'9</td>\n",
       "      <td>161lbs</td>\n",
       "      <td>84</td>\n",
       "      <td>78</td>\n",
       "      <td>83</td>\n",
       "      <td>62</td>\n",
       "      <td>79</td>\n",
       "      <td>€165.8M</td>\n",
       "    </tr>\n",
       "  </tbody>\n",
       "</table>\n",
       "</div>"
      ],
      "text/plain": [
       "            Name  Age Nationality  Overall             Club   Value  \\\n",
       "11      T. Kroos   28     Germany       90      Real Madrid  €76.5M   \n",
       "17  A. Griezmann   27      France       89  Atlético Madrid    €78M   \n",
       "\n",
       "   Preferred Foot  Jersey Number     Joined Height  Weight  HeadingAccuracy  \\\n",
       "11          Right              8  17-Jul-14    6'0  168lbs               54   \n",
       "17           Left              7  28-Jul-14    5'9  161lbs               84   \n",
       "\n",
       "    FKAccuracy  Stamina  Strength  Penalties Release Clause  \n",
       "11          84       75        73         73        €156.8M  \n",
       "17          78       83        62         79        €165.8M  "
      ]
     },
     "execution_count": 187,
     "metadata": {},
     "output_type": "execute_result"
    }
   ],
   "source": [
    "lp=df[(df['Name'] == \"T. Kroos\") | (df['Name'] == \"A. Griezmann\")]\n",
    "lp.head()"
   ]
  },
  {
   "cell_type": "code",
   "execution_count": 189,
   "metadata": {},
   "outputs": [
    {
     "data": {
      "text/plain": [
       "<matplotlib.axes._subplots.AxesSubplot at 0x1deb2e280f0>"
      ]
     },
     "execution_count": 189,
     "metadata": {},
     "output_type": "execute_result"
    },
    {
     "data": {
      "image/png": "[encoded data removed]",
      "text/plain": [
       "<Figure size 432x288 with 1 Axes>"
      ]
     },
     "metadata": {
      "needs_background": "light"
     },
     "output_type": "display_data"
    }
   ],
   "source": [
    "lp.plot(grid='true', title='properties', x='Name', y=['Overall', 'HeadingAccuracy', 'FKAccuracy', 'Stamina', 'Strength'])"
   ]
  },
  {
   "cell_type": "markdown",
   "metadata": {
    "deletable": false,
    "editable": false
   },
   "source": [
    "### 16. Draw an appropriately labelled Bar Graph comparing the following properties of top 3 players in the dataset.\n",
    ">['Overall', 'HeadingAccuracy', 'FKAccuracy', 'Stamina', 'Strength']\n",
    "    \n",
    "    It should look somewhat like this:\n",
    "![title](football/compare.png)"
   ]
  },
  {
   "cell_type": "code",
   "execution_count": 160,
   "metadata": {},
   "outputs": [
    {
     "data": {
      "text/plain": [
       "<matplotlib.axes._subplots.AxesSubplot at 0x1debc8025f8>"
      ]
     },
     "execution_count": 160,
     "metadata": {},
     "output_type": "execute_result"
    },
    {
     "data": {
      "image/png": "[encoded data removed]",
      "text/plain": [
       "<Figure size 432x288 with 1 Axes>"
      ]
     },
     "metadata": {
      "needs_background": "light"
     },
     "output_type": "display_data"
    }
   ],
   "source": [
    "df1=df.head(3)\n",
    "df1.plot.bar(x='Name', y=['Overall', 'HeadingAccuracy', 'FKAccuracy', 'Stamina', 'Strength'])"
   ]
  },
  {
   "cell_type": "markdown",
   "metadata": {
    "deletable": false,
    "editable": false
   },
   "source": [
    "### 17. Create a Histogram of Age of players, with 20 bins."
   ]
  },
  {
   "cell_type": "code",
   "execution_count": 65,
   "metadata": {},
   "outputs": [
    {
     "data": {
      "text/plain": [
       "array([[<matplotlib.axes._subplots.AxesSubplot object at 0x000001DEAAA86BA8>]],\n",
       "      dtype=object)"
      ]
     },
     "execution_count": 65,
     "metadata": {},
     "output_type": "execute_result"
    },
    {
     "data": {
      "image/png": "[encoded data removed]",
      "text/plain": [
       "<Figure size 432x288 with 1 Axes>"
      ]
     },
     "metadata": {
      "needs_background": "light"
     },
     "output_type": "display_data"
    }
   ],
   "source": [
    "df.hist(column='Age', bins= 20)"
   ]
  },
  {
   "cell_type": "markdown",
   "metadata": {
    "deletable": false,
    "editable": false
   },
   "source": [
    "### 18. Create a text file 'football_stats.txt' such that, each line in this file is a dictionary representing each row of the given dataset. Keys for the dictionary will be column name and Values the details of corresponding player for that column.\n",
    "    - You might have to write the dictionary by converting it to a string as whole.\n",
    "    - In case of missing data, impute them with any suitable value.\n",
    "    - Each row will look somewhat like this-\n",
    "`{'Name': 'M. Hummels', 'Age': 29, 'Nationality': 'Germany', 'Overall': 88, 'Club': 'FC Bayern München', 'Value': '€46M', 'Preferred Foot': 'Right', 'Jersey Number': 5, .........}`"
   ]
  },
  {
   "cell_type": "code",
   "execution_count": 6,
   "metadata": {},
   "outputs": [],
   "source": [
    "df=pd.read_csv(r'C:\\Users\\Pooja Jha\\Documents\\Training\\Assignment - Set 1\\football\\football.csv')\n",
    "t=df.to_json(r'C:\\Users\\Pooja Jha\\Desktop\\football_stats.txt',orient='records',lines=True,force_ascii=False)"
   ]
  },
  {
   "cell_type": "markdown",
   "metadata": {
    "deletable": false,
    "editable": false
   },
   "source": [
    ">><font size=6, color=blue>Thank You</font>"
   ]
  }
 ],
 "metadata": {
  "kernelspec": {
   "display_name": "Python 3",
   "language": "python",
   "name": "python3"
  },
  "language_info": {
   "codemirror_mode": {
    "name": "ipython",
    "version": 3
   },
   "file_extension": ".py",
   "mimetype": "text/x-python",
   "name": "python",
   "nbconvert_exporter": "python",
   "pygments_lexer": "ipython3",
   "version": "3.7.3"
  }
 },
 "nbformat": 4,
 "nbformat_minor": 2
}
